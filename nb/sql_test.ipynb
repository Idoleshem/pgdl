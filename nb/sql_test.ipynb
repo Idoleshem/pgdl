{
 "cells": [
  {
   "cell_type": "code",
   "execution_count": null,
   "id": "2acc6171-a93c-4fc5-bb8d-7f63daa2aab5",
   "metadata": {
    "is_executing": true
   },
   "outputs": [],
   "source": [
    "import json, requests, time\n",
    "from sqlalchemy import create_engine\n",
    "import pandas as pd\n",
    "\n",
    "engine = create_engine('postgresql://postgres:argmax@pg:5432/postgres')\n"
   ]
  },
  {
   "cell_type": "markdown",
   "id": "680c6725",
   "metadata": {},
   "source": [
    "# Data\n",
    "\n",
    "Every time a user opens a mobile app, an auction is going on behind the scenes. The highest bidder gets to advertise his ad to the user.\n",
    "\n",
    "## Auctions Table\n"
   ]
  },
  {
   "cell_type": "code",
   "execution_count": null,
   "id": "d0a63fdd",
   "metadata": {},
   "outputs": [],
   "source": [
    "sql_query = 'SELECT * FROM auctions;'\n",
    "with engine.connect() as db_con:\n",
    "    df = pd.read_sql(sql_query, con=db_con)\n",
    "\n",
    "df"
   ]
  },
  {
   "cell_type": "markdown",
   "id": "ff9c86e9",
   "metadata": {},
   "source": [
    "## App Vectors table\n",
    "\n",
    "We've gathered the first few sentences from the app store description and embedded it with a [model](https://huggingface.co/mixedbread-ai/mxbai-embed-large-v1)\n"
   ]
  },
  {
   "cell_type": "code",
   "execution_count": null,
   "id": "05408c99",
   "metadata": {},
   "outputs": [],
   "source": [
    "sql_query = f'''\n",
    "SELECT\n",
    "    *\n",
    "FROM app_vectors\n",
    "'''\n",
    "has_embedding = False\n",
    "while not has_embedding:\n",
    "    with engine.connect() as db_con:\n",
    "        df = pd.read_sql(sql_query, con=db_con)\n",
    "    has_embedding = (~df[\"embedding\"].isna()).all()\n",
    "    if not has_embedding:\n",
    "        print(\"Waiting for embeddings...\")\n",
    "        time.sleep(15)\n",
    "\n",
    "df\n"
   ]
  },
  {
   "cell_type": "markdown",
   "id": "2fac0d2f",
   "metadata": {},
   "source": [
    "We can use the `<=>` operator to run vector search within the database\n"
   ]
  },
  {
   "cell_type": "code",
   "execution_count": null,
   "id": "79504473",
   "metadata": {},
   "outputs": [],
   "source": [
    "\n",
    "vec = json.loads(df.embedding[0]) # get the first embedding\n",
    "print (\"Embedding size: {l}\".format(l=len(vec)))\n",
    "\n",
    "sql_query = f'''\n",
    "SELECT\n",
    "    \"bundleId\"\n",
    "FROM app_vectors\n",
    "ORDER BY embedding<=>'{json.dumps(vec)}'\n",
    "'''\n",
    "with engine.connect() as db_con:\n",
    "    df = pd.read_sql(sql_query, con=db_con)\n",
    "\n",
    "df"
   ]
  },
  {
   "cell_type": "markdown",
   "id": "0e7be478",
   "metadata": {},
   "source": [
    "# What you need to do\n",
    "\n",
    "## The hypothesis\n",
    "\n",
    "We assume that apps with similar desciptions, would have a similar asking price in the auctions (`sentPrice` column).\n",
    "\n",
    "Use cosine similarity (`<=>`) on the embeddings to find similar apps, and any statistical tools you find suitable to prove or disprove this hypothesis.\n",
    "\n",
    "## Is it consistent?\n",
    "\n",
    "There are several other features in the auctions table (such as `CountryCode` and `OS`),\n",
    "Do your findings hold for those as well?\n"
   ]
  },
  {
   "cell_type": "code",
   "execution_count": null,
   "id": "99b61a69-83f0-4325-aeb7-9c0bfe70a79e",
   "metadata": {},
   "outputs": [],
   "source": [
    "!pip install scikit-learn\n",
    "!pip install seaborn\n"
   ]
  },
  {
   "cell_type": "code",
   "execution_count": null,
   "id": "c0672db1",
   "metadata": {},
   "outputs": [],
   "source": [
    "# First - let's evalute the quality of the embedding, I would assume that similar apps would have similar embeddings. \n",
    "# Let's create a confusion matrix with the cosine similarity values\n",
    "import numpy as np\n",
    "import seaborn as sns\n",
    "import matplotlib.pyplot as plt\n",
    "import json\n",
    "from sklearn.metrics.pairwise import cosine_similarity\n",
    "\n",
    "# Convert string representations of lists to actual lists\n",
    "df_of_embeddings['embedding'] = df_of_embeddings['embedding'].apply(json.loads)\n",
    "\n",
    "# Initialize a matrix to store cosine similarities\n",
    "num_embeddings = len(df_of_embeddings)\n",
    "cos_sim_matrix = np.zeros((num_embeddings, num_embeddings))\n",
    "\n",
    "# Compute cosine similarity between each pair of embeddings\n",
    "for i in range(num_embeddings):\n",
    "    for j in range(num_embeddings):\n",
    "        if i != j:\n",
    "            cos_sim_matrix[i, j] = cosine_similarity([df_of_embeddings['embedding'][i]], [df_of_embeddings['embedding'][j]])[0, 0]\n",
    "\n",
    "# Create DataFrame for cosine similarity matrix\n",
    "cos_sim_df = pd.DataFrame(cos_sim_matrix, columns=df_of_embeddings['bundleId'], index=df_of_embeddings['bundleId'])"
   ]
  },
  {
   "cell_type": "code",
   "execution_count": null,
   "id": "3265f036",
   "metadata": {},
   "outputs": [],
   "source": [
    "# Create heatmap of cosine similarity values\n",
    "plt.figure(figsize=(10, 8))\n",
    "sns.heatmap(cos_sim_df, annot=True, cmap='coolwarm')\n",
    "plt.title('Cosine Similarity Heatmap')\n",
    "plt.xlabel('bundleId')\n",
    "plt.ylabel('bundleId')\n",
    "plt.show()"
   ]
  },
  {
   "cell_type": "code",
   "execution_count": null,
   "id": "a2567545",
   "metadata": {},
   "outputs": [],
   "source": [
    "# conducting subjective assessment of similar apps based on their cosine similarty.\n",
    "# for example - com.volt.dresstoimpress and 1569586264 got cosine similarity of (1)\n",
    "\n",
    "# The com.volt.dresstoimpress app content is \"Choose the appropriate outfit to make it through different social events!\"\n",
    "# The 1569586264 app content is \"Choose the appropriate outfit to make it through different social events!\"\n",
    "\n",
    "# This analysis suggest that these might be the same apps!\n",
    "\n",
    "# ----------------------------------------------------------------------------------------------------------------\n",
    "\n",
    "# let's also anaylse 2 embeddings which are not identical but their cosine similiarty is high. (0.92)\n",
    "# for example: - com.loop.match3d & 1502447854\n",
    "# The com.loop.match3d app content is \"Get ready for a new, challenging and original matching pairs brain game\"\n",
    "# The 1502447854 app content is \"\"Get ready for a new, challenging and original matching pairs game.\n",
    "# these descriptions are really close!\n",
    "\n",
    "# ----------------------------------------------------------------------------------------------------------------\n",
    "\n",
    "# lastly, let's pick a couple of apps with medium similiarty (0.5)\n",
    "# The com.tintash.nailsalon app content is:\n",
    "# \"It is manicure madness over here and it�s your time to become the greatest Nail Salon of 2021! All you need to do is scrape, clip, paint, polish and perfect your client�s nails and you will be raking in the money in no time! Just don�t mess up! People don�t like when you accidentally pull their nails off. Ouch!\"\n",
    "\n",
    "# the com.volt.dresstoimpress app content is:\n",
    "#\"Choose the appropriate outfit to make it through different social events!\"\n",
    "\n",
    "# conclusion - not so similar \n",
    "\n",
    "# ----------------------------------------------------------------------------------------------------------------\n",
    "\n",
    "# final conclusion - the embeddings works fine :)"
   ]
  },
  {
   "cell_type": "code",
   "execution_count": null,
   "id": "107a824a",
   "metadata": {},
   "outputs": [],
   "source": [
    "# lets learn more about our data. We can check the apps percenatge of records and the descriptives\n",
    "# Group by 'bundleId' and calculate descriptive statistics for 'sentPrice'\n",
    "\n",
    "grouped_stats = df.groupby('bundleId')['sentPrice'].describe()\n",
    "\n",
    "# Calculate percentage of each group out of all records\n",
    "grouped_stats['percentage'] = grouped_stats['count'] / len(df) * 100\n",
    "\n",
    "print(grouped_stats)\n",
    "\n",
    "\n",
    "# visualize the discriptive statistics of each app\n",
    "# it can be learned that the some apps have a lot of records and some have only a few\n",
    "# the embeddings might help us "
   ]
  },
  {
   "cell_type": "code",
   "execution_count": null,
   "id": "8e9ad409",
   "metadata": {},
   "outputs": [],
   "source": [
    "# Plot histogram for each group\n",
    "grouped = df.groupby('bundleId')\n",
    "# Calculate the number of subplots needed\n",
    "num_plots = len(grouped)\n",
    "\n",
    "# Create subplots\n",
    "fig, axes = plt.subplots(1, num_plots, figsize=(num_plots * 8, 6))\n",
    "\n",
    "# Plot histogram for each group\n",
    "for i, (name, group) in enumerate(grouped):\n",
    "    axes[i].hist(group['sentPrice'], bins=20, alpha=0.7)\n",
    "    axes[i].set_title(f'Distribution of sentPrice for {name}')\n",
    "    axes[i].set_xlabel('sentPrice')\n",
    "    axes[i].set_ylabel('Frequency')\n",
    "    axes[i].grid(True)\n",
    "\n",
    "plt.tight_layout()\n",
    "plt.show()\n",
    "#There is some similarity between the apps"
   ]
  },
  {
   "cell_type": "code",
   "execution_count": null,
   "id": "3492688f",
   "metadata": {},
   "outputs": [],
   "source": [
    "# feature engineering\n",
    "df['eventTimestamp'] = pd.to_numeric(df['eventTimestamp'], errors='coerce')\n",
    "df['eventTimestamp'] = pd.to_datetime(df['eventTimestamp'] / 1000, unit='s')\n",
    "\n",
    "df['year'] = df['eventTimestamp'].dt.year\n",
    "df['month'] = df['eventTimestamp'].dt.month\n",
    "df['day'] = df['eventTimestamp'].dt.day\n",
    "df['hour'] = df['eventTimestamp'].dt.hour\n",
    "df['minute'] = df['eventTimestamp'].dt.minute\n",
    "df['second'] = df['eventTimestamp'].dt.second\n",
    "df['day_of_week'] = df['eventTimestamp'].dt.dayofweek \n",
    "\n",
    "print(df)"
   ]
  }
 ],
 "metadata": {
  "kernelspec": {
   "display_name": "Python 3 (ipykernel)",
   "language": "python",
   "name": "python3"
  },
  "language_info": {
   "codemirror_mode": {
    "name": "ipython",
    "version": 3
   },
   "file_extension": ".py",
   "mimetype": "text/x-python",
   "name": "python",
   "nbconvert_exporter": "python",
   "pygments_lexer": "ipython3",
   "version": "3.9.6"
  }
 },
 "nbformat": 4,
 "nbformat_minor": 5
}
